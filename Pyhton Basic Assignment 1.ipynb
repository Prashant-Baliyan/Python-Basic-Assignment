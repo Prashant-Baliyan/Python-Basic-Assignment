{
 "cells": [
  {
   "cell_type": "markdown",
   "id": "c8df8e33",
   "metadata": {},
   "source": [
    "# Pyhton Basic Assignment 1"
   ]
  },
  {
   "cell_type": "raw",
   "id": "a9a73d00",
   "metadata": {},
   "source": [
    "1) In the below elements which of them are values or an expression? eg:- values can be integer or string and expressions will be mathematical operators.\n",
    "\n",
    "* \n",
    "'hello'\n",
    "-87.8\n",
    "- \n",
    " / \n",
    "+\t\n",
    " 6 "
   ]
  },
  {
   "cell_type": "markdown",
   "id": "bd998155",
   "metadata": {},
   "source": [
    "    ANSWER - \n",
    "      * -> Expression\n",
    "     'hello' ->  Value \n",
    "     -87.8 -> Value \n",
    "      - -> Expression  \n",
    "     / -> Expression \n",
    "     + -> Expresion \n",
    "     6 -> Value "
   ]
  },
  {
   "cell_type": "raw",
   "id": "5b868d16",
   "metadata": {},
   "source": [
    "2) What is the difference between string and variable?"
   ]
  },
  {
   "cell_type": "markdown",
   "id": "283367e7",
   "metadata": {},
   "source": [
    "String - String is a array of sequence character and is written inside single quotes, double quotes or triple quotes. Python doesn't have character data type, so when we write 'a', it takes as a string with lenght 1.\n",
    "\n",
    "Variable - Variables are containers for storing data values. A variable is created the moment you first assign a value to it. variable do not need to be declared with any perticular 'type', and can even change after they have been set."
   ]
  },
  {
   "cell_type": "raw",
   "id": "14be4da7",
   "metadata": {},
   "source": [
    "3. Describe three different data types."
   ]
  },
  {
   "cell_type": "markdown",
   "id": "26bbabc4",
   "metadata": {},
   "source": [
    "NUMBERS - Number stores numeric values. The integer, float, and complex values belong to a Python Numbers data-type.\n",
    "\n",
    "LIST - The list can contain data of different types. The items stored in the list are separated with a comma (,) and enclosed within square brackets [].We can use slice [:] operators to access the data of the list.\n",
    "\n",
    "A list is mutable means we can alter the list once it will be cretaed.\n",
    "\n",
    "TUPLE - A tuple is similar to the list in many ways. Like lists, tuples also contain the collection of the items of different data types. The items of the tuple are separated with a comma (,) and enclosed in parentheses ().\n",
    "\n",
    "A tuple is unmutable data structure as we can't modify the size and value of the items of a tuple."
   ]
  },
  {
   "cell_type": "raw",
   "id": "9907f802",
   "metadata": {},
   "source": [
    "4. What is an expression made up of? What do all expressions do?"
   ]
  },
  {
   "cell_type": "markdown",
   "id": "64b5e0e1",
   "metadata": {},
   "source": [
    "An expression is a combination of values, variables, operators, and calls to functions. Anything that does something is a statement. Any assignment to a variable or function call is a statement. Any value contained in that statement in an expression."
   ]
  },
  {
   "cell_type": "raw",
   "id": "0629ccda",
   "metadata": {},
   "source": [
    "5. This assignment statements, like spam = 10. What is the difference between an expression and a statement?"
   ]
  },
  {
   "cell_type": "markdown",
   "id": "3d018cdb",
   "metadata": {},
   "source": [
    "The evaluation of an expression produces a value, which is why expressions can appear on the right hand side of assignment statements."
   ]
  },
  {
   "cell_type": "raw",
   "id": "b2f6f96b",
   "metadata": {},
   "source": [
    "6. After running the following code, what does the variable bacon contain?\n",
    "bacon = 22\n",
    "bacon + 1"
   ]
  },
  {
   "cell_type": "code",
   "execution_count": 3,
   "id": "415c0b13",
   "metadata": {},
   "outputs": [
    {
     "data": {
      "text/plain": [
       "23"
      ]
     },
     "execution_count": 3,
     "metadata": {},
     "output_type": "execute_result"
    }
   ],
   "source": [
    "bacon = 22\n",
    "bacon + 1"
   ]
  },
  {
   "cell_type": "raw",
   "id": "2403da0f",
   "metadata": {},
   "source": [
    "7. What should the values of the following two terms be?\n",
    "'spam' + 'spamspam'\n",
    "'spam' * 3"
   ]
  },
  {
   "cell_type": "code",
   "execution_count": 7,
   "id": "5b4c3a49",
   "metadata": {},
   "outputs": [
    {
     "data": {
      "text/plain": [
       "'spamspamspam'"
      ]
     },
     "execution_count": 7,
     "metadata": {},
     "output_type": "execute_result"
    }
   ],
   "source": [
    "'spam' + 'spamspam'\n",
    "'spam' * 3"
   ]
  },
  {
   "cell_type": "raw",
   "id": "b7ea3c37",
   "metadata": {},
   "source": [
    "8. Why is eggs a valid variable name while 100 is invalid?"
   ]
  },
  {
   "cell_type": "markdown",
   "id": "645e944c",
   "metadata": {},
   "source": [
    "    1)Variable name should start with letter(a-zA-Z) or underscore (_).\n",
    "    2)Variable name can have numbers but not at the beginning.\n",
    "    3)Varible can not be a number"
   ]
  },
  {
   "cell_type": "raw",
   "id": "32a33119",
   "metadata": {},
   "source": [
    " 9. What three functions can be used to get the integer, floating-point number, or string version of a value?"
   ]
  },
  {
   "cell_type": "markdown",
   "id": "00a600f4",
   "metadata": {},
   "source": [
    "    1) count()\n",
    "    2) Range()\n",
    "    3) Len()"
   ]
  },
  {
   "cell_type": "raw",
   "id": "b4f69a25",
   "metadata": {},
   "source": [
    "10. Why does this expression cause an error? How can you fix it?\n",
    "'I have eaten ' + 99 + ' burritos.'"
   ]
  },
  {
   "cell_type": "code",
   "execution_count": 9,
   "id": "e0542c12",
   "metadata": {},
   "outputs": [
    {
     "ename": "TypeError",
     "evalue": "can only concatenate str (not \"int\") to str",
     "output_type": "error",
     "traceback": [
      "\u001b[1;31m---------------------------------------------------------------------------\u001b[0m",
      "\u001b[1;31mTypeError\u001b[0m                                 Traceback (most recent call last)",
      "\u001b[1;32m<ipython-input-9-d24137131a5c>\u001b[0m in \u001b[0;36m<module>\u001b[1;34m\u001b[0m\n\u001b[1;32m----> 1\u001b[1;33m \u001b[1;34m'I have eaten '\u001b[0m \u001b[1;33m+\u001b[0m \u001b[1;36m99\u001b[0m \u001b[1;33m+\u001b[0m \u001b[1;34m' burritos.'\u001b[0m\u001b[1;33m\u001b[0m\u001b[1;33m\u001b[0m\u001b[0m\n\u001b[0m",
      "\u001b[1;31mTypeError\u001b[0m: can only concatenate str (not \"int\") to str"
     ]
    }
   ],
   "source": [
    "'I have eaten ' + 99 + ' burritos.'"
   ]
  },
  {
   "cell_type": "code",
   "execution_count": 10,
   "id": "057f1be4",
   "metadata": {},
   "outputs": [
    {
     "data": {
      "text/plain": [
       "'I have eaten 99 burritos.'"
      ]
     },
     "execution_count": 10,
     "metadata": {},
     "output_type": "execute_result"
    }
   ],
   "source": [
    "# We have to put it into a quotes to use it as a string.\n",
    "'I have eaten ' + '99' + ' burritos.'"
   ]
  }
 ],
 "metadata": {
  "kernelspec": {
   "display_name": "Python 3",
   "language": "python",
   "name": "python3"
  },
  "language_info": {
   "codemirror_mode": {
    "name": "ipython",
    "version": 3
   },
   "file_extension": ".py",
   "mimetype": "text/x-python",
   "name": "python",
   "nbconvert_exporter": "python",
   "pygments_lexer": "ipython3",
   "version": "3.8.8"
  }
 },
 "nbformat": 4,
 "nbformat_minor": 5
}
