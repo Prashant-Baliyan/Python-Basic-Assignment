{
 "cells": [
  {
   "cell_type": "raw",
   "id": "c389b352",
   "metadata": {},
   "source": [
    "1.What are the two values of the Boolean data type? How do you write them?"
   ]
  },
  {
   "cell_type": "markdown",
   "id": "d2b34f56",
   "metadata": {},
   "source": [
    "    Two boolean data types are True or False.\n",
    "\n",
    "    Notice that 'T' and 'F' are capital. \n",
    "    'true' and 'false' are not valid booleans and Python will throw an error for them.\n",
    "    Internally Python represents True as 1 and False as 0"
   ]
  },
  {
   "cell_type": "raw",
   "id": "ad9be68c",
   "metadata": {},
   "source": [
    "2. What are the three different types of Boolean operators?"
   ]
  },
  {
   "cell_type": "markdown",
   "id": "f90d8e47",
   "metadata": {},
   "source": [
    "and, or, not "
   ]
  },
  {
   "cell_type": "raw",
   "id": "73e51746",
   "metadata": {},
   "source": [
    "3. Make a list of each Boolean operator's truth tables (i.e. every possible combination of Boolean values for the operator and what it evaluate )."
   ]
  },
  {
   "cell_type": "markdown",
   "id": "f380eb17",
   "metadata": {},
   "source": [
    "    Truth Table for AND Operator:\n",
    "    \n",
    "    A       B        A and B\n",
    "    \n",
    "    1       0           0\n",
    "    \n",
    "    0       1           0\n",
    "    \n",
    "    0       0           0\n",
    "    \n",
    "    1       1           1\n",
    "    \n",
    "    Truth Table for OR operator:\n",
    "    \n",
    "    A       B        A Or B\n",
    "    \n",
    "    0       1           1\n",
    "    \n",
    "    1       0           1\n",
    "    \n",
    "    0       0           0\n",
    "    \n",
    "    1       1           1\n",
    "    \n",
    "    Truth Table for NOT:\n",
    "    \n",
    "    A      Not A\n",
    "    \n",
    "    1       0\n",
    "    \n",
    "    0       1\n",
    "    "
   ]
  },
  {
   "cell_type": "raw",
   "id": "8de5a5b0",
   "metadata": {},
   "source": [
    "4. What are the values of the following expressions?\n",
    "\n",
    "    (5 > 4) and (3 == 5)\n",
    "    not (5 > 4)\n",
    "    (5 > 4) or (3 == 5)\n",
    "    not ((5 > 4) or (3 == 5))\n",
    "    (True and True) and (True == False)\n",
    "    (not False) or (not True)"
   ]
  },
  {
   "cell_type": "markdown",
   "id": "8edf21f5",
   "metadata": {},
   "source": [
    "    (5 > 4) and (3 == 5)   -->   False\n",
    "    not (5 > 4)            -->   False\n",
    "    (5 > 4) or (3 == 5)    -->   True\n",
    "    not ((5 > 4) or (3 == 5))->  False\n",
    "    (True and True) and (True == False) ---> False\n",
    "    (not False) or (not True) --> True"
   ]
  },
  {
   "cell_type": "raw",
   "id": "c0c59663",
   "metadata": {},
   "source": [
    "5. What are the six comparison operators?"
   ]
  },
  {
   "cell_type": "markdown",
   "id": "10af5e32",
   "metadata": {},
   "source": [
    "    Equal-To (== )  -->  Decides whether the values are equal or not\n",
    "    Not-Equal-To (!= ) --> Decides whether the values are unequal or not.\n",
    "    Greater-Than (> ) --> Decides whether the left-value is greater or not.\n",
    "    Less-Than (< )    --> Decides whether the left-value if lesser or not.\n",
    "    Greater-Than-Equal-To (>= ) --> Decides whether the left-value is greater or equal to the right value or not.\n",
    "    Less-Than-Equal-To (<= ) --> Decides whether the left-value is lesser or equal to the right value or not."
   ]
  },
  {
   "cell_type": "raw",
   "id": "e923f6bb",
   "metadata": {},
   "source": [
    "6. How do you tell the difference between the equal to and assignment operators?Describe a condition and when you would use one."
   ]
  },
  {
   "cell_type": "markdown",
   "id": "9e49312b",
   "metadata": {},
   "source": [
    "    1 - While defining both of them, in equal to operator we use '==' and in assignment operator we use '=' and is used to     assign the value on the right to the variable on the left.\n",
    "    2- The ‘==’ operator checks whether the two given operands are equal or not. If so, it returns true. Otherwise \n",
    "    it returns false."
   ]
  },
  {
   "cell_type": "raw",
   "id": "06dd9e72",
   "metadata": {},
   "source": [
    "7. Identify the three blocks in this code:\n",
    "    spam = 0\n",
    "    if spam == 10:\n",
    "    print('eggs')\n",
    "    if spam > 5:\n",
    "    print('bacon')\n",
    "    else:\n",
    "    print('ham')\n",
    "    print('spam')\n",
    "    print('spam')"
   ]
  },
  {
   "cell_type": "markdown",
   "id": "c53cb744",
   "metadata": {},
   "source": [
    "    spam = 0\n",
    "    First Block:\n",
    "    if spam == 10:\n",
    "    print('eggs')\n",
    "    \n",
    "    SeconD Block:\n",
    "    if spam > 5:\n",
    "    print('bacon')\n",
    "    \n",
    "    Third Block:\n",
    "    else:\n",
    "    print('ham')\n",
    "    print('spam')\n",
    "    print('spam')"
   ]
  },
  {
   "cell_type": "raw",
   "id": "3f773fd1",
   "metadata": {},
   "source": [
    "8. Write code that prints Hello if 1 is stored in spam, prints Howdy if 2 is stored in spam, and prints Greetings! if anything else is stored in spam."
   ]
  },
  {
   "cell_type": "code",
   "execution_count": null,
   "id": "da38023c",
   "metadata": {},
   "outputs": [],
   "source": [
    "    spam = 0\n",
    "    if spam == 1:\n",
    "        print(\"Hello\")\n",
    "    elif spam == 2:\n",
    "        print(\"Howdy\")\n",
    "    else:\n",
    "        print(\"Greetings!\")"
   ]
  },
  {
   "cell_type": "raw",
   "id": "9b989595",
   "metadata": {},
   "source": [
    "9.If your programme is stuck in an endless loop, what keys you’ll press?"
   ]
  },
  {
   "cell_type": "markdown",
   "id": "955ff329",
   "metadata": {},
   "source": [
    "    Press CTRL-C to stop a program stuck in an infinite loop."
   ]
  },
  {
   "cell_type": "raw",
   "id": "0bfc74db",
   "metadata": {},
   "source": [
    "10. How can you tell the difference between break and continue?"
   ]
  },
  {
   "cell_type": "markdown",
   "id": "c006ba6d",
   "metadata": {},
   "source": [
    "    Break:                                                            Continue:\n",
    "    \n",
    "    1) It eliminates the execution of remaining iteration of loop.    It will terminate only the current iteration of                                                                             loop.\n",
    "    \n",
    "    \t\n",
    "    2)It will resume control of program to the end of loop             It will resume the control of the program                                                                                  to next iteration of that loop enclosing ‘continue'\n",
    "    enclosing that ‘break’.\n",
    "    \n",
    "    3)It early terminates the loop.                                   It causes the early execution of the next iteration.\n",
    "    \n",
    "    4)The ‘break ‘stop the continuation of the loop.                  The ‘continue’ does not stop the continuation of loop                                                                       and it stops the current."
   ]
  },
  {
   "cell_type": "raw",
   "id": "2b520d48",
   "metadata": {},
   "source": [
    "11. In a for loop, what is the difference between range(10), range(0, 10), and range(0, 10, 1)?"
   ]
  },
  {
   "cell_type": "code",
   "execution_count": 22,
   "id": "00a15346",
   "metadata": {},
   "outputs": [
    {
     "name": "stdout",
     "output_type": "stream",
     "text": [
      "0\n",
      "1\n",
      "2\n",
      "3\n",
      "4\n",
      "5\n",
      "6\n",
      "7\n",
      "8\n",
      "9\n"
     ]
    }
   ],
   "source": [
    "for i in  range(10):\n",
    "    print(i)\n",
    "  "
   ]
  },
  {
   "cell_type": "code",
   "execution_count": 23,
   "id": "1bb4dd6e",
   "metadata": {},
   "outputs": [
    {
     "name": "stdout",
     "output_type": "stream",
     "text": [
      "0\n",
      "1\n",
      "2\n",
      "3\n",
      "4\n",
      "5\n",
      "6\n",
      "7\n",
      "8\n",
      "9\n"
     ]
    }
   ],
   "source": [
    "for i in  range(0,10):\n",
    "    print(i)"
   ]
  },
  {
   "cell_type": "code",
   "execution_count": 24,
   "id": "34a9bd1f",
   "metadata": {},
   "outputs": [
    {
     "name": "stdout",
     "output_type": "stream",
     "text": [
      "0\n",
      "1\n",
      "2\n",
      "3\n",
      "4\n",
      "5\n",
      "6\n",
      "7\n",
      "8\n",
      "9\n"
     ]
    }
   ],
   "source": [
    "for i in  range(0,10,1):\n",
    "    print(i)"
   ]
  },
  {
   "cell_type": "raw",
   "id": "997b17ff",
   "metadata": {},
   "source": [
    "12. Write a short program that prints the numbers 1 to 10 using a for loop. Then write an equivalent program that prints the numbers 1 to 10 using a while loop."
   ]
  },
  {
   "cell_type": "code",
   "execution_count": 32,
   "id": "275127b6",
   "metadata": {},
   "outputs": [
    {
     "name": "stdout",
     "output_type": "stream",
     "text": [
      "1\n",
      "2\n",
      "3\n",
      "4\n",
      "5\n",
      "6\n",
      "7\n",
      "8\n",
      "9\n",
      "10\n"
     ]
    }
   ],
   "source": [
    "# Using For Loop:\n",
    "\n",
    "i = 10\n",
    "for j in range(i):\n",
    "    j = j+1\n",
    "    print(j)\n",
    "    \n",
    "#Using while loop\n",
    "\n",
    "i = 1\n",
    "while i<= 10:\n",
    "    print(i)\n",
    "    i = i+1"
   ]
  },
  {
   "cell_type": "raw",
   "id": "960af6e8",
   "metadata": {},
   "source": [
    "13.If you had a function named bacon() inside a module named spam, how would you call it after importing spam?"
   ]
  },
  {
   "cell_type": "markdown",
   "id": "b53f2c1a",
   "metadata": {},
   "source": [
    "    spam.bacom()"
   ]
  },
  {
   "cell_type": "code",
   "execution_count": null,
   "id": "cdbad3a4",
   "metadata": {},
   "outputs": [],
   "source": []
  }
 ],
 "metadata": {
  "kernelspec": {
   "display_name": "Python 3",
   "language": "python",
   "name": "python3"
  },
  "language_info": {
   "codemirror_mode": {
    "name": "ipython",
    "version": 3
   },
   "file_extension": ".py",
   "mimetype": "text/x-python",
   "name": "python",
   "nbconvert_exporter": "python",
   "pygments_lexer": "ipython3",
   "version": "3.8.8"
  }
 },
 "nbformat": 4,
 "nbformat_minor": 5
}
